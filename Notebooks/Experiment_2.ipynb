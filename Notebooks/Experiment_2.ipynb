{
  "nbformat": 4,
  "nbformat_minor": 0,
  "metadata": {
    "colab": {
      "name": "Experiment 2.ipynb",
      "provenance": [],
      "collapsed_sections": []
    },
    "kernelspec": {
      "name": "python3",
      "display_name": "Python 3"
    },
    "language_info": {
      "name": "python"
    },
    "accelerator": "GPU"
  },
  "cells": [
    {
      "cell_type": "markdown",
      "metadata": {
        "id": "8oxjaoNqp40n"
      },
      "source": [
        "# Import Libraries"
      ]
    },
    {
      "cell_type": "code",
      "metadata": {
        "id": "tpAfOzi3CUEY"
      },
      "source": [
        "import pandas as pd\n",
        "import numpy as np\n",
        "\n",
        "import os, cv2\n",
        "import numpy as np\n",
        "import matplotlib.pyplot as plt\n",
        "\n",
        "from sklearn.utils import shuffle\n",
        "from sklearn.model_selection import train_test_split\n",
        "\n",
        "import keras\n",
        "from keras import backend as K\n",
        "K.set_image_data_format('channels_last') \n",
        "from keras.utils import np_utils\n",
        "from keras.models import Sequential\n",
        "from keras.layers import Dense, Dropout, Activation, Flatten, Conv2D, MaxPooling2D\n",
        "from keras.optimizers import SGD, RMSprop, Adam\n",
        "from keras.regularizers import l1, l2\n",
        "\n",
        "\n",
        "import glob\n",
        "import h5py\n",
        "import tensorflow as tf\n",
        "\n",
        "# Model Evaluation Libraries\n",
        "from sklearn.metrics import precision_recall_fscore_support, accuracy_score, classification_report"
      ],
      "execution_count": 1,
      "outputs": []
    },
    {
      "cell_type": "markdown",
      "metadata": {
        "id": "2nwLzUW0pz9_"
      },
      "source": [
        "# Connect to Colab"
      ]
    },
    {
      "cell_type": "code",
      "metadata": {
        "colab": {
          "base_uri": "https://localhost:8080/"
        },
        "id": "e9Oul2qIpxn0",
        "outputId": "e8e2792a-ef05-4692-9ea4-f5ce0ea8500c"
      },
      "source": [
        "from google.colab import drive\n",
        "drive.mount('/content/drive')"
      ],
      "execution_count": 2,
      "outputs": [
        {
          "output_type": "stream",
          "text": [
            "Mounted at /content/drive\n"
          ],
          "name": "stdout"
        }
      ]
    },
    {
      "cell_type": "code",
      "metadata": {
        "id": "pEh3ufoBGD8p"
      },
      "source": [
        "# read Label files"
      ],
      "execution_count": null,
      "outputs": []
    },
    {
      "cell_type": "code",
      "metadata": {
        "id": "V9rcQ2__K1fA"
      },
      "source": [
        "import json\n",
        "with open('/content/drive/MyDrive/data/train.jsonl') as f:        \n",
        "    train_label_data = [json.loads(line) for line in f]"
      ],
      "execution_count": 3,
      "outputs": []
    },
    {
      "cell_type": "code",
      "metadata": {
        "id": "7XwJr5zILXDg"
      },
      "source": [
        "import json\n",
        "with open('/content/drive/MyDrive/data/dev.jsonl') as f:\n",
        "    dev_label_data = [json.loads(line) for line in f]"
      ],
      "execution_count": 4,
      "outputs": []
    },
    {
      "cell_type": "code",
      "metadata": {
        "colab": {
          "base_uri": "https://localhost:8080/"
        },
        "id": "3XvS3NWOMJ6D",
        "outputId": "408de626-4a62-4ead-c54b-fad45736afa4"
      },
      "source": [
        "len(train_label_data), len(dev_label_data)"
      ],
      "execution_count": 5,
      "outputs": [
        {
          "output_type": "execute_result",
          "data": {
            "text/plain": [
              "(8500, 500)"
            ]
          },
          "metadata": {
            "tags": []
          },
          "execution_count": 5
        }
      ]
    },
    {
      "cell_type": "code",
      "metadata": {
        "colab": {
          "base_uri": "https://localhost:8080/"
        },
        "id": "0TT--7eNMNOq",
        "outputId": "6a22ffbd-fd5b-4ad3-c3fd-a6287cd7eeda"
      },
      "source": [
        "train_label_data[0]"
      ],
      "execution_count": 6,
      "outputs": [
        {
          "output_type": "execute_result",
          "data": {
            "text/plain": [
              "{'id': 42953,\n",
              " 'img': 'img/42953.png',\n",
              " 'label': 0,\n",
              " 'text': 'its their character not their color that matters'}"
            ]
          },
          "metadata": {
            "tags": []
          },
          "execution_count": 6
        }
      ]
    },
    {
      "cell_type": "code",
      "metadata": {
        "id": "LvyFOdtfR83R"
      },
      "source": [
        "# Make text Dataframe"
      ],
      "execution_count": null,
      "outputs": []
    },
    {
      "cell_type": "code",
      "metadata": {
        "id": "5TPI2GnBSGdG"
      },
      "source": [
        "df_text = pd.DataFrame(train_label_data + dev_label_data )"
      ],
      "execution_count": 7,
      "outputs": []
    },
    {
      "cell_type": "code",
      "metadata": {
        "colab": {
          "base_uri": "https://localhost:8080/"
        },
        "id": "yPCRBIOkSRqt",
        "outputId": "63e01ba2-c275-4ae6-83d8-beb27982f325"
      },
      "source": [
        "df_text.shape"
      ],
      "execution_count": 8,
      "outputs": [
        {
          "output_type": "execute_result",
          "data": {
            "text/plain": [
              "(9000, 4)"
            ]
          },
          "metadata": {
            "tags": []
          },
          "execution_count": 8
        }
      ]
    },
    {
      "cell_type": "code",
      "metadata": {
        "colab": {
          "base_uri": "https://localhost:8080/",
          "height": 204
        },
        "id": "_jrkUNxzSTmZ",
        "outputId": "e8b9f618-ff17-49bc-c47f-27efebcd0bfe"
      },
      "source": [
        "df_text.head()"
      ],
      "execution_count": 9,
      "outputs": [
        {
          "output_type": "execute_result",
          "data": {
            "text/html": [
              "<div>\n",
              "<style scoped>\n",
              "    .dataframe tbody tr th:only-of-type {\n",
              "        vertical-align: middle;\n",
              "    }\n",
              "\n",
              "    .dataframe tbody tr th {\n",
              "        vertical-align: top;\n",
              "    }\n",
              "\n",
              "    .dataframe thead th {\n",
              "        text-align: right;\n",
              "    }\n",
              "</style>\n",
              "<table border=\"1\" class=\"dataframe\">\n",
              "  <thead>\n",
              "    <tr style=\"text-align: right;\">\n",
              "      <th></th>\n",
              "      <th>id</th>\n",
              "      <th>img</th>\n",
              "      <th>label</th>\n",
              "      <th>text</th>\n",
              "    </tr>\n",
              "  </thead>\n",
              "  <tbody>\n",
              "    <tr>\n",
              "      <th>0</th>\n",
              "      <td>42953</td>\n",
              "      <td>img/42953.png</td>\n",
              "      <td>0</td>\n",
              "      <td>its their character not their color that matters</td>\n",
              "    </tr>\n",
              "    <tr>\n",
              "      <th>1</th>\n",
              "      <td>23058</td>\n",
              "      <td>img/23058.png</td>\n",
              "      <td>0</td>\n",
              "      <td>don't be afraid to love again everyone is not ...</td>\n",
              "    </tr>\n",
              "    <tr>\n",
              "      <th>2</th>\n",
              "      <td>13894</td>\n",
              "      <td>img/13894.png</td>\n",
              "      <td>0</td>\n",
              "      <td>putting bows on your pet</td>\n",
              "    </tr>\n",
              "    <tr>\n",
              "      <th>3</th>\n",
              "      <td>37408</td>\n",
              "      <td>img/37408.png</td>\n",
              "      <td>0</td>\n",
              "      <td>i love everything and everybody! except for sq...</td>\n",
              "    </tr>\n",
              "    <tr>\n",
              "      <th>4</th>\n",
              "      <td>82403</td>\n",
              "      <td>img/82403.png</td>\n",
              "      <td>0</td>\n",
              "      <td>everybody loves chocolate chip cookies, even h...</td>\n",
              "    </tr>\n",
              "  </tbody>\n",
              "</table>\n",
              "</div>"
            ],
            "text/plain": [
              "      id  ...                                               text\n",
              "0  42953  ...   its their character not their color that matters\n",
              "1  23058  ...  don't be afraid to love again everyone is not ...\n",
              "2  13894  ...                           putting bows on your pet\n",
              "3  37408  ...  i love everything and everybody! except for sq...\n",
              "4  82403  ...  everybody loves chocolate chip cookies, even h...\n",
              "\n",
              "[5 rows x 4 columns]"
            ]
          },
          "metadata": {
            "tags": []
          },
          "execution_count": 9
        }
      ]
    },
    {
      "cell_type": "code",
      "metadata": {
        "colab": {
          "base_uri": "https://localhost:8080/",
          "height": 419
        },
        "id": "76KwiuWlYj2O",
        "outputId": "cbf06540-cca6-4788-af7b-50a84680b497"
      },
      "source": [
        "df_text"
      ],
      "execution_count": 10,
      "outputs": [
        {
          "output_type": "execute_result",
          "data": {
            "text/html": [
              "<div>\n",
              "<style scoped>\n",
              "    .dataframe tbody tr th:only-of-type {\n",
              "        vertical-align: middle;\n",
              "    }\n",
              "\n",
              "    .dataframe tbody tr th {\n",
              "        vertical-align: top;\n",
              "    }\n",
              "\n",
              "    .dataframe thead th {\n",
              "        text-align: right;\n",
              "    }\n",
              "</style>\n",
              "<table border=\"1\" class=\"dataframe\">\n",
              "  <thead>\n",
              "    <tr style=\"text-align: right;\">\n",
              "      <th></th>\n",
              "      <th>id</th>\n",
              "      <th>img</th>\n",
              "      <th>label</th>\n",
              "      <th>text</th>\n",
              "    </tr>\n",
              "  </thead>\n",
              "  <tbody>\n",
              "    <tr>\n",
              "      <th>0</th>\n",
              "      <td>42953</td>\n",
              "      <td>img/42953.png</td>\n",
              "      <td>0</td>\n",
              "      <td>its their character not their color that matters</td>\n",
              "    </tr>\n",
              "    <tr>\n",
              "      <th>1</th>\n",
              "      <td>23058</td>\n",
              "      <td>img/23058.png</td>\n",
              "      <td>0</td>\n",
              "      <td>don't be afraid to love again everyone is not ...</td>\n",
              "    </tr>\n",
              "    <tr>\n",
              "      <th>2</th>\n",
              "      <td>13894</td>\n",
              "      <td>img/13894.png</td>\n",
              "      <td>0</td>\n",
              "      <td>putting bows on your pet</td>\n",
              "    </tr>\n",
              "    <tr>\n",
              "      <th>3</th>\n",
              "      <td>37408</td>\n",
              "      <td>img/37408.png</td>\n",
              "      <td>0</td>\n",
              "      <td>i love everything and everybody! except for sq...</td>\n",
              "    </tr>\n",
              "    <tr>\n",
              "      <th>4</th>\n",
              "      <td>82403</td>\n",
              "      <td>img/82403.png</td>\n",
              "      <td>0</td>\n",
              "      <td>everybody loves chocolate chip cookies, even h...</td>\n",
              "    </tr>\n",
              "    <tr>\n",
              "      <th>...</th>\n",
              "      <td>...</td>\n",
              "      <td>...</td>\n",
              "      <td>...</td>\n",
              "      <td>...</td>\n",
              "    </tr>\n",
              "    <tr>\n",
              "      <th>8995</th>\n",
              "      <td>83675</td>\n",
              "      <td>img/83675.png</td>\n",
              "      <td>0</td>\n",
              "      <td>i'm gonna be like phelps one day</td>\n",
              "    </tr>\n",
              "    <tr>\n",
              "      <th>8996</th>\n",
              "      <td>37198</td>\n",
              "      <td>img/37198.png</td>\n",
              "      <td>0</td>\n",
              "      <td>when you're so relaxed you can feel yourself g...</td>\n",
              "    </tr>\n",
              "    <tr>\n",
              "      <th>8997</th>\n",
              "      <td>48670</td>\n",
              "      <td>img/48670.png</td>\n",
              "      <td>0</td>\n",
              "      <td>look at this sandwich maker club i found on wi...</td>\n",
              "    </tr>\n",
              "    <tr>\n",
              "      <th>8998</th>\n",
              "      <td>9863</td>\n",
              "      <td>img/09863.png</td>\n",
              "      <td>0</td>\n",
              "      <td>diverse group of women</td>\n",
              "    </tr>\n",
              "    <tr>\n",
              "      <th>8999</th>\n",
              "      <td>97320</td>\n",
              "      <td>img/97320.png</td>\n",
              "      <td>0</td>\n",
              "      <td>\"when your dishwasher is broken so you take it...</td>\n",
              "    </tr>\n",
              "  </tbody>\n",
              "</table>\n",
              "<p>9000 rows × 4 columns</p>\n",
              "</div>"
            ],
            "text/plain": [
              "         id  ...                                               text\n",
              "0     42953  ...   its their character not their color that matters\n",
              "1     23058  ...  don't be afraid to love again everyone is not ...\n",
              "2     13894  ...                           putting bows on your pet\n",
              "3     37408  ...  i love everything and everybody! except for sq...\n",
              "4     82403  ...  everybody loves chocolate chip cookies, even h...\n",
              "...     ...  ...                                                ...\n",
              "8995  83675  ...                   i'm gonna be like phelps one day\n",
              "8996  37198  ...  when you're so relaxed you can feel yourself g...\n",
              "8997  48670  ...  look at this sandwich maker club i found on wi...\n",
              "8998   9863  ...                             diverse group of women\n",
              "8999  97320  ...  \"when your dishwasher is broken so you take it...\n",
              "\n",
              "[9000 rows x 4 columns]"
            ]
          },
          "metadata": {
            "tags": []
          },
          "execution_count": 10
        }
      ]
    },
    {
      "cell_type": "code",
      "metadata": {
        "colab": {
          "base_uri": "https://localhost:8080/",
          "height": 285
        },
        "id": "FIUNQocgqXJW",
        "outputId": "c075bba5-3f70-44cc-d6e6-0d62e12b6234"
      },
      "source": [
        "import seaborn as sns\n",
        "sns.set_theme(style=\"darkgrid\")\n",
        "\n",
        "ax = sns.countplot(x=\"label\", data=df_text)"
      ],
      "execution_count": 11,
      "outputs": [
        {
          "output_type": "display_data",
          "data": {
            "image/png": "[encoded data removed]",
            "text/plain": [
              "<Figure size 432x288 with 1 Axes>"
            ]
          },
          "metadata": {
            "tags": []
          }
        }
      ]
    },
    {
      "cell_type": "code",
      "metadata": {
        "id": "6G4cR6PwAotB"
      },
      "source": [
        "# Preprocessing Of Text Data"
      ],
      "execution_count": null,
      "outputs": []
    },
    {
      "cell_type": "code",
      "metadata": {
        "id": "BcxpkC07NAOA"
      },
      "source": [
        "df_text['preprocessed']  = df_text['text'].str.lower()"
      ],
      "execution_count": 12,
      "outputs": []
    },
    {
      "cell_type": "code",
      "metadata": {
        "id": "A7aCVON-R6WX"
      },
      "source": [
        "import re\n",
        "def clean_text(text):\n",
        "    text = re.sub('[^ a-zA-Z0-9]', '', text) \n",
        "    text = re.sub(r\"\\W\",\" \",text)\n",
        "    text = re.sub(r\"\\d\",\" \",text)\n",
        "    text = re.sub(r\"\\s+[a-z]\\s+\",\" \",text)\n",
        "    text = re.sub(r\"\\s+[a-z]$\",\" \",text)\n",
        "    text = re.sub(r\"^[a-z]\\s+\",\" \",text)\n",
        "    text = re.sub(r\"\\s+\",\" \",text) \n",
        "    return  text\n",
        "df_text['preprocessed']  = df_text['preprocessed'].apply(clean_text)"
      ],
      "execution_count": 13,
      "outputs": []
    },
    {
      "cell_type": "code",
      "metadata": {
        "colab": {
          "base_uri": "https://localhost:8080/"
        },
        "id": "mFxzTsECAt9Z",
        "outputId": "6024cc7d-394c-4f29-84c5-d81cce00c574"
      },
      "source": [
        "import nltk\n",
        "from nltk.corpus import stopwords\n",
        "nltk.download('stopwords')\n",
        "stop = stopwords.words('english')\n",
        "nltk.download('punkt')"
      ],
      "execution_count": 14,
      "outputs": [
        {
          "output_type": "stream",
          "text": [
            "[nltk_data] Downloading package stopwords to /root/nltk_data...\n",
            "[nltk_data]   Unzipping corpora/stopwords.zip.\n",
            "[nltk_data] Downloading package punkt to /root/nltk_data...\n",
            "[nltk_data]   Unzipping tokenizers/punkt.zip.\n"
          ],
          "name": "stdout"
        },
        {
          "output_type": "execute_result",
          "data": {
            "text/plain": [
              "True"
            ]
          },
          "metadata": {
            "tags": []
          },
          "execution_count": 14
        }
      ]
    },
    {
      "cell_type": "code",
      "metadata": {
        "id": "rAzBIm0-M-LP"
      },
      "source": [
        "# Exclude stopwords with Python's list comprehension and pandas.DataFrame.apply.\n",
        "df_text['preprocessed'] = df_text['preprocessed'].apply(lambda x: ' '.join([word for word in x.split() if word not in (stop)]))"
      ],
      "execution_count": 15,
      "outputs": []
    },
    {
      "cell_type": "code",
      "metadata": {
        "id": "wz9lem13_Ry8"
      },
      "source": [
        "import spacy\n",
        "nlp = spacy.blank('en')\n",
        "\n",
        "def tokenizer(sent):    \n",
        "    doc = nlp.tokenizer(sent)\n",
        "    return [i.text for i in doc]\n",
        "\n",
        "df_text[\"preprocessed\"] = df_text[\"preprocessed\"].apply(tokenizer)"
      ],
      "execution_count": 16,
      "outputs": []
    },
    {
      "cell_type": "code",
      "metadata": {
        "colab": {
          "base_uri": "https://localhost:8080/",
          "height": 204
        },
        "id": "Aav3vn_lLUUI",
        "outputId": "1d428d2a-c05d-4bea-9852-b10adbfc1cf8"
      },
      "source": [
        "df_text.head()"
      ],
      "execution_count": 17,
      "outputs": [
        {
          "output_type": "execute_result",
          "data": {
            "text/html": [
              "<div>\n",
              "<style scoped>\n",
              "    .dataframe tbody tr th:only-of-type {\n",
              "        vertical-align: middle;\n",
              "    }\n",
              "\n",
              "    .dataframe tbody tr th {\n",
              "        vertical-align: top;\n",
              "    }\n",
              "\n",
              "    .dataframe thead th {\n",
              "        text-align: right;\n",
              "    }\n",
              "</style>\n",
              "<table border=\"1\" class=\"dataframe\">\n",
              "  <thead>\n",
              "    <tr style=\"text-align: right;\">\n",
              "      <th></th>\n",
              "      <th>id</th>\n",
              "      <th>img</th>\n",
              "      <th>label</th>\n",
              "      <th>text</th>\n",
              "      <th>preprocessed</th>\n",
              "    </tr>\n",
              "  </thead>\n",
              "  <tbody>\n",
              "    <tr>\n",
              "      <th>0</th>\n",
              "      <td>42953</td>\n",
              "      <td>img/42953.png</td>\n",
              "      <td>0</td>\n",
              "      <td>its their character not their color that matters</td>\n",
              "      <td>[character, color, matters]</td>\n",
              "    </tr>\n",
              "    <tr>\n",
              "      <th>1</th>\n",
              "      <td>23058</td>\n",
              "      <td>img/23058.png</td>\n",
              "      <td>0</td>\n",
              "      <td>don't be afraid to love again everyone is not ...</td>\n",
              "      <td>[do, nt, afraid, love, everyone, like, ex]</td>\n",
              "    </tr>\n",
              "    <tr>\n",
              "      <th>2</th>\n",
              "      <td>13894</td>\n",
              "      <td>img/13894.png</td>\n",
              "      <td>0</td>\n",
              "      <td>putting bows on your pet</td>\n",
              "      <td>[putting, bows, pet]</td>\n",
              "    </tr>\n",
              "    <tr>\n",
              "      <th>3</th>\n",
              "      <td>37408</td>\n",
              "      <td>img/37408.png</td>\n",
              "      <td>0</td>\n",
              "      <td>i love everything and everybody! except for sq...</td>\n",
              "      <td>[love, everything, everybody, except, squirrel...</td>\n",
              "    </tr>\n",
              "    <tr>\n",
              "      <th>4</th>\n",
              "      <td>82403</td>\n",
              "      <td>img/82403.png</td>\n",
              "      <td>0</td>\n",
              "      <td>everybody loves chocolate chip cookies, even h...</td>\n",
              "      <td>[everybody, loves, chocolate, chip, cookies, e...</td>\n",
              "    </tr>\n",
              "  </tbody>\n",
              "</table>\n",
              "</div>"
            ],
            "text/plain": [
              "      id  ...                                       preprocessed\n",
              "0  42953  ...                        [character, color, matters]\n",
              "1  23058  ...         [do, nt, afraid, love, everyone, like, ex]\n",
              "2  13894  ...                               [putting, bows, pet]\n",
              "3  37408  ...  [love, everything, everybody, except, squirrel...\n",
              "4  82403  ...  [everybody, loves, chocolate, chip, cookies, e...\n",
              "\n",
              "[5 rows x 5 columns]"
            ]
          },
          "metadata": {
            "tags": []
          },
          "execution_count": 17
        }
      ]
    },
    {
      "cell_type": "code",
      "metadata": {
        "id": "eWt6wFuNQgR9"
      },
      "source": [
        "df_text['len_preprocessed']  = df_text['preprocessed'].str.len()"
      ],
      "execution_count": 18,
      "outputs": []
    },
    {
      "cell_type": "code",
      "metadata": {
        "colab": {
          "base_uri": "https://localhost:8080/"
        },
        "id": "T5Pw6terQyZJ",
        "outputId": "ac1c3c10-3a10-4851-f835-98be9b7bff80"
      },
      "source": [
        "df_text['len_preprocessed'].max()  "
      ],
      "execution_count": 19,
      "outputs": [
        {
          "output_type": "execute_result",
          "data": {
            "text/plain": [
              "45"
            ]
          },
          "metadata": {
            "tags": []
          },
          "execution_count": 19
        }
      ]
    },
    {
      "cell_type": "code",
      "metadata": {
        "id": "63V76uiuGIHi"
      },
      "source": [
        "import gensim\n",
        "model_word2vec = gensim.models.Word2Vec(df_text[\"preprocessed\"], size=64, window=3, workers=10, min_count = 1, sg =0)"
      ],
      "execution_count": 20,
      "outputs": []
    },
    {
      "cell_type": "code",
      "metadata": {
        "colab": {
          "base_uri": "https://localhost:8080/"
        },
        "id": "x0zbUce6RMrP",
        "outputId": "aa736dbd-80af-4cc8-d1b7-5d4714c3131b"
      },
      "source": [
        "model_word2vec.wv.most_similar(\"pet\")"
      ],
      "execution_count": 21,
      "outputs": [
        {
          "output_type": "execute_result",
          "data": {
            "text/plain": [
              "[('culture', 0.9901975989341736),\n",
              " ('sandwich', 0.9897231459617615),\n",
              " ('place', 0.9897178411483765),\n",
              " ('obama', 0.9897117614746094),\n",
              " ('take', 0.9895206689834595),\n",
              " ('gives', 0.9894942045211792),\n",
              " ('time', 0.989482581615448),\n",
              " ('cute', 0.9894720315933228),\n",
              " ('find', 0.9894657731056213),\n",
              " ('food', 0.9894459843635559)]"
            ]
          },
          "metadata": {
            "tags": []
          },
          "execution_count": 21
        }
      ]
    },
    {
      "cell_type": "code",
      "metadata": {
        "colab": {
          "base_uri": "https://localhost:8080/"
        },
        "id": "o80OOTpYH-V-",
        "outputId": "9dee6ff3-44cf-4f4a-f7b7-188dfdec2e70"
      },
      "source": [
        "model_word2vec.wv.most_similar(\"chocolate\")"
      ],
      "execution_count": 22,
      "outputs": [
        {
          "output_type": "execute_result",
          "data": {
            "text/plain": [
              "[('power', 0.9871658086776733),\n",
              " ('islamic', 0.9852335453033447),\n",
              " ('year', 0.9851807355880737),\n",
              " ('wrong', 0.9849326014518738),\n",
              " ('found', 0.9849033355712891),\n",
              " ('bitches', 0.9848842620849609),\n",
              " ('show', 0.9846093058586121),\n",
              " ('rashida', 0.9845809936523438),\n",
              " ('family', 0.9845095872879028),\n",
              " ('better', 0.984367847442627)]"
            ]
          },
          "metadata": {
            "tags": []
          },
          "execution_count": 22
        }
      ]
    },
    {
      "cell_type": "code",
      "metadata": {
        "id": "Slc-QSpSrNID"
      },
      "source": [
        "VOCAB_SIZE = len(model_word2vec.wv.vocab)\n",
        "DIMENSIONS = 64\n",
        "MAX_LEN = df_text['len_preprocessed'].max()  "
      ],
      "execution_count": 23,
      "outputs": []
    },
    {
      "cell_type": "code",
      "metadata": {
        "colab": {
          "base_uri": "https://localhost:8080/"
        },
        "id": "HAwjYy0irzSx",
        "outputId": "82d9dccf-82e4-445a-805e-83d28e4f759d"
      },
      "source": [
        "VOCAB_SIZE, DIMENSIONS, MAX_LEN"
      ],
      "execution_count": 24,
      "outputs": [
        {
          "output_type": "execute_result",
          "data": {
            "text/plain": [
              "(8888, 64, 45)"
            ]
          },
          "metadata": {
            "tags": []
          },
          "execution_count": 24
        }
      ]
    },
    {
      "cell_type": "code",
      "metadata": {
        "id": "WvYvxL_Er5J6"
      },
      "source": [
        "from keras.preprocessing.text import Tokenizer\n",
        "token = Tokenizer()\n",
        "token.fit_on_texts( df_text['preprocessed'])\n",
        "encoded = token.texts_to_sequences(df_text[\"preprocessed\"])"
      ],
      "execution_count": 25,
      "outputs": []
    },
    {
      "cell_type": "code",
      "metadata": {
        "id": "DsbAkFHvr5Rp"
      },
      "source": [
        "words2vec_matrix = np.zeros((VOCAB_SIZE+1, DIMENSIONS))\n",
        "\n",
        "for word, index in token.word_index.items():\n",
        "    try:\n",
        "        words2vec_matrix[index] = model_word2vec.wv[word]\n",
        "    except:\n",
        "        print(index, word)\n"
      ],
      "execution_count": 26,
      "outputs": []
    },
    {
      "cell_type": "code",
      "metadata": {
        "id": "61AUYvq_r5Xk"
      },
      "source": [
        "import tensorflow as tf\n",
        "train_vectors = tf.keras.preprocessing.sequence.pad_sequences(encoded, padding='post', dtype=int)"
      ],
      "execution_count": 27,
      "outputs": []
    },
    {
      "cell_type": "code",
      "metadata": {
        "id": "EP46pvmDr5ad"
      },
      "source": [
        "train_label = df_text['label']"
      ],
      "execution_count": 28,
      "outputs": []
    },
    {
      "cell_type": "code",
      "metadata": {
        "id": "SgjLlbBSr5fj"
      },
      "source": [
        "(train_sentences, test_sentences, train_tags, test_tags) = train_test_split(train_vectors, train_label, test_size=0.2, shuffle = True)"
      ],
      "execution_count": 29,
      "outputs": []
    },
    {
      "cell_type": "code",
      "metadata": {
        "id": "XJ0uECPwssAj"
      },
      "source": [
        "import tensorflow.keras.layers as Layers\n",
        "import tensorflow.keras.activations as Actications\n",
        "import tensorflow.keras.models as Models\n",
        "from tensorflow.keras.optimizers import Adam, Optimizer, SGD\n",
        "import tensorflow.keras.initializers as Init\n",
        "from tensorflow.keras import regularizers"
      ],
      "execution_count": 30,
      "outputs": []
    },
    {
      "cell_type": "code",
      "metadata": {
        "colab": {
          "base_uri": "https://localhost:8080/"
        },
        "id": "y8TmPLJCs1RR",
        "outputId": "484374fa-69cb-4730-e4bf-6076fa315c73"
      },
      "source": [
        "lstm = Models.Sequential()\n",
        "\n",
        "lstm.add(Layers.Embedding(VOCAB_SIZE+1,DIMENSIONS,\n",
        "                          embeddings_initializer = Init.Constant(words2vec_matrix),\n",
        "                          input_length=MAX_LEN, trainable=False ))\n",
        "\n",
        "lstm.add(Layers.Bidirectional(Layers.LSTM(64, activation='relu')))\n",
        "\n",
        "lstm.add(Layers.Dense(128, activation='relu'))\n",
        "lstm.add(Layers.Dropout(0.3))\n",
        "\n",
        "lstm.add(Layers.Dense(64, activation='relu'))\n",
        "lstm.add(Layers.Dropout(0.3))\n",
        "\n",
        "lstm.add(Layers.Dense(1, activation='sigmoid'))\n",
        "\n",
        "lstm.summary()"
      ],
      "execution_count": 32,
      "outputs": [
        {
          "output_type": "stream",
          "text": [
            "WARNING:tensorflow:Layer lstm will not use cuDNN kernels since it doesn't meet the criteria. It will use a generic GPU kernel as fallback when running on GPU.\n",
            "WARNING:tensorflow:Layer lstm will not use cuDNN kernels since it doesn't meet the criteria. It will use a generic GPU kernel as fallback when running on GPU.\n",
            "WARNING:tensorflow:Layer lstm will not use cuDNN kernels since it doesn't meet the criteria. It will use a generic GPU kernel as fallback when running on GPU.\n",
            "Model: \"sequential_1\"\n",
            "_________________________________________________________________\n",
            "Layer (type)                 Output Shape              Param #   \n",
            "=================================================================\n",
            "embedding_1 (Embedding)      (None, 45, 64)            568896    \n",
            "_________________________________________________________________\n",
            "bidirectional (Bidirectional (None, 128)               66048     \n",
            "_________________________________________________________________\n",
            "dense_2 (Dense)              (None, 128)               16512     \n",
            "_________________________________________________________________\n",
            "dropout_2 (Dropout)          (None, 128)               0         \n",
            "_________________________________________________________________\n",
            "dense_3 (Dense)              (None, 64)                8256      \n",
            "_________________________________________________________________\n",
            "dropout_3 (Dropout)          (None, 64)                0         \n",
            "_________________________________________________________________\n",
            "dense_4 (Dense)              (None, 1)                 65        \n",
            "=================================================================\n",
            "Total params: 659,777\n",
            "Trainable params: 90,881\n",
            "Non-trainable params: 568,896\n",
            "_________________________________________________________________\n"
          ],
          "name": "stdout"
        }
      ]
    },
    {
      "cell_type": "code",
      "metadata": {
        "colab": {
          "base_uri": "https://localhost:8080/"
        },
        "id": "qr2Ih-57tVa8",
        "outputId": "f62790c8-f7c7-4899-8ed6-f525c1443dac"
      },
      "source": [
        "from keras.callbacks import ModelCheckpoint\n",
        "from tensorflow.keras.callbacks import EarlyStopping\n",
        "class_weight={0: 25,\n",
        "                1: 50.,}\n",
        "\n",
        "lstm.compile(loss='binary_crossentropy', optimizer='adam', metrics=['accuracy'])\n",
        "es_callback = EarlyStopping(monitor='val_loss', patience=3) \n",
        "LSTM_NET = lstm.fit(train_sentences, train_tags, epochs=50, validation_split=0.02, class_weight=class_weight , callbacks=[es_callback], shuffle=False)"
      ],
      "execution_count": 35,
      "outputs": [
        {
          "output_type": "stream",
          "text": [
            "Epoch 1/50\n",
            "221/221 [==============================] - 33s 139ms/step - loss: 23.4340 - accuracy: 0.4962 - val_loss: 0.7036 - val_accuracy: 0.5347\n",
            "Epoch 2/50\n",
            "221/221 [==============================] - 30s 137ms/step - loss: 23.3927 - accuracy: 0.4885 - val_loss: 0.7016 - val_accuracy: 0.5278\n",
            "Epoch 3/50\n",
            "221/221 [==============================] - 30s 136ms/step - loss: 23.3790 - accuracy: 0.5071 - val_loss: 0.6973 - val_accuracy: 0.5208\n",
            "Epoch 4/50\n",
            "221/221 [==============================] - 30s 134ms/step - loss: 23.3884 - accuracy: 0.4963 - val_loss: 0.7005 - val_accuracy: 0.5069\n",
            "Epoch 5/50\n",
            "221/221 [==============================] - 31s 142ms/step - loss: 23.3900 - accuracy: 0.4946 - val_loss: 0.7056 - val_accuracy: 0.5139\n",
            "Epoch 6/50\n",
            "221/221 [==============================] - 29s 133ms/step - loss: 23.3604 - accuracy: 0.4973 - val_loss: 0.6951 - val_accuracy: 0.5139\n",
            "Epoch 7/50\n",
            "221/221 [==============================] - 31s 141ms/step - loss: 23.3253 - accuracy: 0.4990 - val_loss: 0.7014 - val_accuracy: 0.5208\n",
            "Epoch 8/50\n",
            "221/221 [==============================] - 30s 135ms/step - loss: 23.3272 - accuracy: 0.5013 - val_loss: 0.7023 - val_accuracy: 0.4931\n",
            "Epoch 9/50\n",
            "221/221 [==============================] - 30s 138ms/step - loss: 23.3384 - accuracy: 0.5001 - val_loss: 0.7098 - val_accuracy: 0.5000\n"
          ],
          "name": "stdout"
        }
      ]
    },
    {
      "cell_type": "code",
      "metadata": {
        "colab": {
          "base_uri": "https://localhost:8080/"
        },
        "id": "FYn13MHkAcmF",
        "outputId": "abcbd8d9-71f9-4921-eea0-b9474ff889e4"
      },
      "source": [
        "#seralize model to json\n",
        "model_json=lstm.to_json()\n",
        "with open(\"improvedmodel_lstm.json\",\"w\") as json_file:\n",
        "    json_file.write(model_json)\n",
        "#seralize weights to HDFS\n",
        "lstm.save_weights(\"improvedmodel_lstm.h5\")\n",
        "print(\"Saved Model To Disk\")    "
      ],
      "execution_count": 36,
      "outputs": [
        {
          "output_type": "stream",
          "text": [
            "Saved Model To Disk\n"
          ],
          "name": "stdout"
        }
      ]
    },
    {
      "cell_type": "code",
      "metadata": {
        "id": "DqZZkFHbAg4i"
      },
      "source": [
        "#Load Json and Create Model\n",
        "json_file=open(\"improvedmodel_lstm.json\",'r')\n",
        "loaded_model_json=json_file.read()\n",
        "json_file.close()\n",
        "loaded_model=model_from_json(loaded_model_json)\n",
        "#Load weights into new model\n",
        "loaded_model.load_weights(\"improvedmodel_lstm.h5\")\n",
        "print(\"Loaded Model from disk\")\n",
        "\n",
        "loaded_model.compile(optimizer=opt,loss='binary_crossentropy',metrics=['accuracy'])"
      ],
      "execution_count": null,
      "outputs": []
    },
    {
      "cell_type": "code",
      "metadata": {
        "colab": {
          "base_uri": "https://localhost:8080/",
          "height": 301
        },
        "id": "TmxtINJ7tmgR",
        "outputId": "61e3d37b-27b9-4b11-f5b2-0663008dad35"
      },
      "source": [
        "#Accuracy Curve\n",
        "plt.plot(LSTM_NET.history['accuracy'])\n",
        "plt.plot(LSTM_NET.history['val_accuracy'])\n",
        "plt.title('Model accuracy')\n",
        "plt.ylabel('Accuracy')\n",
        "plt.xlabel('Epoch')\n",
        "plt.legend(['Train', 'Validation'], loc='upper left')\n",
        "plt.show()"
      ],
      "execution_count": null,
      "outputs": [
        {
          "output_type": "display_data",
          "data": {
            "image/png": "[encoded data removed]",
            "text/plain": [
              "<Figure size 432x288 with 1 Axes>"
            ]
          },
          "metadata": {
            "tags": []
          }
        }
      ]
    },
    {
      "cell_type": "code",
      "metadata": {
        "colab": {
          "base_uri": "https://localhost:8080/",
          "height": 301
        },
        "id": "bYwEdEULuBRt",
        "outputId": "86e1c5a0-08ba-44cf-8041-fe2b8b63787c"
      },
      "source": [
        "#Loss Curve\n",
        "plt.plot(LSTM_NET.history['loss'])\n",
        "plt.plot(LSTM_NET.history['val_loss'])\n",
        "plt.title('Model loss')\n",
        "plt.ylabel('Loss')\n",
        "plt.xlabel('Epoch')\n",
        "plt.legend(['Train', 'Validation'], loc='upper left')\n",
        "plt.show()"
      ],
      "execution_count": null,
      "outputs": [
        {
          "output_type": "display_data",
          "data": {
            "image/png": "[encoded data removed]",
            "text/plain": [
              "<Figure size 432x288 with 1 Axes>"
            ]
          },
          "metadata": {
            "tags": []
          }
        }
      ]
    },
    {
      "cell_type": "code",
      "metadata": {
        "colab": {
          "base_uri": "https://localhost:8080/"
        },
        "id": "2BW9VdliuGmY",
        "outputId": "e6504796-af7b-4aec-afd1-f28e468bebce"
      },
      "source": [
        "#Classification Report\n",
        "from sklearn.metrics import classification_report, confusion_matrix\n",
        "print(classification_report(lstm.predict(test_sentences).round(), test_tags))"
      ],
      "execution_count": null,
      "outputs": [
        {
          "output_type": "stream",
          "text": [
            "              precision    recall  f1-score   support\n",
            "\n",
            "         0.0       0.60      0.66      0.63       995\n",
            "         1.0       0.52      0.44      0.48       805\n",
            "\n",
            "    accuracy                           0.56      1800\n",
            "   macro avg       0.56      0.55      0.55      1800\n",
            "weighted avg       0.56      0.56      0.56      1800\n",
            "\n"
          ],
          "name": "stdout"
        }
      ]
    },
    {
      "cell_type": "code",
      "metadata": {
        "id": "e_8zHmXGuM6a",
        "colab": {
          "base_uri": "https://localhost:8080/"
        },
        "outputId": "0d691aef-51e8-4d7c-cf97-b5dd41158539"
      },
      "source": [
        "#Confusion Matrix\n",
        "from sklearn.metrics import confusion_matrix\n",
        "confusion_matrix(test_tags, lstm.predict(test_sentences).round())"
      ],
      "execution_count": null,
      "outputs": [
        {
          "output_type": "execute_result",
          "data": {
            "text/plain": [
              "array([[660, 449],\n",
              "       [335, 356]])"
            ]
          },
          "metadata": {
            "tags": []
          },
          "execution_count": 79
        }
      ]
    },
    {
      "cell_type": "code",
      "metadata": {
        "colab": {
          "base_uri": "https://localhost:8080/",
          "height": 301
        },
        "id": "Nw-ODfBZLSIK",
        "outputId": "0a839513-f1c0-42b8-d334-f2ccf20a19cb"
      },
      "source": [
        "#ROC Curve AUC\n",
        "from sklearn.metrics import roc_curve\n",
        "y_pred = lstm.predict(test_sentences).ravel()\n",
        "fpr, tpr, thresholds = roc_curve(test_tags, y_pred)\n",
        "\n",
        "from sklearn.metrics import auc\n",
        "auc = auc(fpr, tpr)\n",
        "\n",
        "plt.figure(1)\n",
        "plt.plot([0, 1], [0, 1], 'k--')\n",
        "plt.plot(fpr, tpr, label='LSTM (area = {:.3f})'.format(auc))\n",
        "#plt.plot(fpr_rf, tpr_rf, label='RF (area = {:.3f})'.format(auc_rf))\n",
        "plt.xlabel('False positive rate')\n",
        "plt.ylabel('True positive rate')\n",
        "plt.title('ROC curve')\n",
        "plt.legend(loc='best')\n",
        "plt.show()"
      ],
      "execution_count": null,
      "outputs": [
        {
          "output_type": "display_data",
          "data": {
            "image/png": "[encoded data removed]",
            "text/plain": [
              "<Figure size 432x288 with 1 Axes>"
            ]
          },
          "metadata": {
            "tags": []
          }
        }
      ]
    }
  ]
}